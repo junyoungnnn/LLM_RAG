{
 "cells": [
  {
   "cell_type": "code",
   "execution_count": 4,
   "metadata": {},
   "outputs": [
    {
     "data": {
      "text/plain": [
       "True"
      ]
     },
     "execution_count": 4,
     "metadata": {},
     "output_type": "execute_result"
    }
   ],
   "source": [
    "from dotenv import load_dotenv\n",
    "\n",
    "load_dotenv()"
   ]
  },
  {
   "cell_type": "code",
   "execution_count": 6,
   "metadata": {},
   "outputs": [],
   "source": [
    "from langchain_openai import ChatOpenAI\n",
    "\n",
    "llm = ChatOpenAI()"
   ]
  },
  {
   "cell_type": "code",
   "execution_count": 15,
   "metadata": {},
   "outputs": [],
   "source": [
    "ai_message = llm.invoke('라자냐의 레시피가 어떻게 되지?')"
   ]
  },
  {
   "cell_type": "code",
   "execution_count": 16,
   "metadata": {},
   "outputs": [
    {
     "data": {
      "text/plain": [
       "'라자냐의 전통적인 레시피는 다음과 같습니다:\\n\\n재료:\\n- 라자냐 면\\n- 소세지 혹은 소고기 장조림\\n- 토마토 소스\\n- 양파\\n- 마늘\\n- 올리브 오일\\n- 소금, 후추\\n- 모짜렐라 치즈\\n\\n1. 양파와 마늘을 다져 뜨거운 팬에 올리브 오일을 두르고 볶아줍니다.\\n2. 다진 소세지나 소고기 장조림을 넣고 볶아줍니다.\\n3. 토마토 소스를 넣고 약불에서 살짝 끓여줍니다.\\n4. 물을 끓여 라자냐 면을 삶아줍니다.\\n5. 라자냐 면을 삶았다면, 소스와 함께 국자에 담아 섞어줍니다.\\n6. 접시에 얹은 후 모짜렐라 치즈를 뿌려주고 오븐에서 10분간 구워줍니다.\\n7. 완성된 라자냐를 그릇에 담아 곧바로 내놓아 즐기시면 됩니다.\\n\\n이 외에도 각자의 취향에 맞게 채소나 다른 고기류를 추가하여 라자냐를 더욱 맛있게 만들어 보실 수도 있습니다.맛있는 요리 되십시오!'"
      ]
     },
     "execution_count": 16,
     "metadata": {},
     "output_type": "execute_result"
    }
   ],
   "source": [
    "ai_message.content"
   ]
  },
  {
   "cell_type": "code",
   "execution_count": 5,
   "metadata": {},
   "outputs": [],
   "source": [
    "# import os\n",
    "# from langchain_openai import ChatOpenAI\n",
    "\n",
    "# api_key = os.getenv(\"OPENAI_API_KEY\")\n",
    "\n",
    "# llm = ChatOpenAI(api_key=api_key)"
   ]
  }
 ],
 "metadata": {
  "kernelspec": {
   "display_name": "Python 3",
   "language": "python",
   "name": "python3"
  },
  "language_info": {
   "codemirror_mode": {
    "name": "ipython",
    "version": 3
   },
   "file_extension": ".py",
   "mimetype": "text/x-python",
   "name": "python",
   "nbconvert_exporter": "python",
   "pygments_lexer": "ipython3",
   "version": "3.11.9"
  }
 },
 "nbformat": 4,
 "nbformat_minor": 2
}
