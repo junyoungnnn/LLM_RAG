{
 "cells": [
  {
   "cell_type": "markdown",
   "metadata": {},
   "source": [
    "1. 문서의 내용을 읽는다\n",
    "2. 문서를 쪼갠다\n",
    "    - 토큰수 초과로 답변을 생성하지 못할 수 있고\n",
    "    - 문서가 길면 (인풋이 길면) 답변 생성이 오래 걸림\n",
    "3. 임베딩 -> 벡터 데이터 베이스에 저장\n",
    "4. 질문이 있을 때, 벡터 데이터베이스에 유사도 검색\n",
    "5. 유사도 검색으로 가져온 문서를 LLM에 질문과 같이 전달\n"
   ]
  },
  {
   "cell_type": "markdown",
   "metadata": {},
   "source": [
    "https://python.langchain.com/docs/integrations/document_loaders/microsoft_word/#using-azure-ai-document-intelligence"
   ]
  },
  {
   "cell_type": "markdown",
   "metadata": {},
   "source": [
    "https://python.langchain.com/docs/how_to/recursive_text_splitter/#splitting-text-from-languages-without-word-boundaries"
   ]
  },
  {
   "cell_type": "code",
   "execution_count": 24,
   "metadata": {},
   "outputs": [],
   "source": [
    "# pip install --upgrade --quiet  docx2txt langchain_community"
   ]
  },
  {
   "cell_type": "code",
   "execution_count": 25,
   "metadata": {},
   "outputs": [],
   "source": [
    "# pip install -qU langchain-text-splitters"
   ]
  },
  {
   "cell_type": "code",
   "execution_count": 2,
   "metadata": {},
   "outputs": [],
   "source": [
    "from langchain_community.document_loaders import Docx2txtLoader\n",
    "from langchain_text_splitters import RecursiveCharacterTextSplitter\n",
    "\n",
    "text_splitter = RecursiveCharacterTextSplitter(\n",
    "    chunk_size = 1500,\n",
    "    chunk_overlap=200, # 오버랩을 함으로써 문서를 겹치게함. 문맥을 전달할 수 있음.\n",
    ")\n",
    "\n",
    "loader = Docx2txtLoader(\"./tax.docx\")\n",
    "document_list = loader.load_and_split(text_splitter=text_splitter)"
   ]
  },
  {
   "cell_type": "code",
   "execution_count": 8,
   "metadata": {},
   "outputs": [
    {
     "data": {
      "text/plain": [
       "187"
      ]
     },
     "execution_count": 8,
     "metadata": {},
     "output_type": "execute_result"
    }
   ],
   "source": [
    "len(document_list)"
   ]
  },
  {
   "cell_type": "markdown",
   "metadata": {},
   "source": [
    "https://python.langchain.com/docs/integrations/text_embedding/"
   ]
  },
  {
   "cell_type": "code",
   "execution_count": null,
   "metadata": {},
   "outputs": [],
   "source": [
    "# 3. 임베딩 -> 벡터 데이터 베이스에 저장\n",
    "\n",
    "from dotenv import load_dotenv\n",
    "from langchain_openai import OpenAIEmbeddings\n",
    "\n",
    "load_dotenv()\n",
    "\n",
    "embedding = OpenAIEmbeddings(model=\"text-embedding-3-large\")"
   ]
  },
  {
   "cell_type": "code",
   "execution_count": 4,
   "metadata": {},
   "outputs": [
    {
     "data": {
      "text/plain": [
       "OpenAIEmbeddings(client=<openai.resources.embeddings.Embeddings object at 0x00000204107A10D0>, async_client=<openai.resources.embeddings.AsyncEmbeddings object at 0x000002040F826BD0>, model='text-embedding-3-large', dimensions=None, deployment='text-embedding-ada-002', openai_api_version=None, openai_api_base=None, openai_api_type=None, openai_proxy=None, embedding_ctx_length=8191, openai_api_key=SecretStr('**********'), openai_organization=None, allowed_special=None, disallowed_special=None, chunk_size=1000, max_retries=2, request_timeout=None, headers=None, tiktoken_enabled=True, tiktoken_model_name=None, show_progress_bar=False, model_kwargs={}, skip_empty=False, default_headers=None, default_query=None, retry_min_seconds=4, retry_max_seconds=20, http_client=None, http_async_client=None, check_embedding_ctx_length=True)"
      ]
     },
     "execution_count": 4,
     "metadata": {},
     "output_type": "execute_result"
    }
   ],
   "source": [
    "embedding"
   ]
  },
  {
   "cell_type": "markdown",
   "metadata": {},
   "source": [
    "https://python.langchain.com/docs/integrations/vectorstores/chroma/#basic-initialization"
   ]
  },
  {
   "cell_type": "markdown",
   "metadata": {},
   "source": [
    "우리 쪼개논 다큐먼트 리스트를 임베딩을 이용해서 저장"
   ]
  },
  {
   "cell_type": "code",
   "execution_count": 16,
   "metadata": {},
   "outputs": [],
   "source": [
    "from langchain_chroma import Chroma\n",
    "\n",
    "# database = Chroma.from_documents(documents=document_list, embedding=embedding, collection_name='chroma-tax', persist_directory=\"./chroma\")\n",
    "\n",
    "database = Chroma(collection_name='chroma-tax', persist_directory=\"./chroma\", embedding_function=embedding)"
   ]
  },
  {
   "cell_type": "markdown",
   "metadata": {},
   "source": [
    "similarity_search: 유사도 검색, 임베딩을 활용해서 유사검색을 해서 답변을 가져옴"
   ]
  },
  {
   "cell_type": "code",
   "execution_count": 9,
   "metadata": {},
   "outputs": [],
   "source": [
    "query = '연봉 5천만원인 직장인의 소득세는 얼마인가요?'\n",
    "#retrieved_docs = database.similarity_search(query, k=2)"
   ]
  },
  {
   "cell_type": "code",
   "execution_count": null,
   "metadata": {},
   "outputs": [
    {
     "data": {
      "text/plain": [
       "[Document(id='eb910c64-50ef-4c0b-91a2-717d66bd6335', metadata={'source': './tax.docx'}, page_content='1. 「공익신탁법」에 따른 공익신탁의 이익\\n\\n2. 사업소득 중 다음 각 목의 어느 하나에 해당하는 소득\\n\\n가. 논ㆍ밭을 작물 생산에 이용하게 함으로써 발생하는 소득\\n\\n나. 1개의 주택을 소유하는 자의 주택임대소득(제99조에 따른 기준시가가 12억원을 초과하는 주택 및 국외에 소재하는 주택의 임대소득은 제외한다) 또는 해당 과세기간에 대통령령으로 정하는 총수입금액의 합계액이 2천만원 이하인 자의 주택임대소득(2018년 12월 31일 이전에 끝나는 과세기간까지 발생하는 소득으로 한정한다). 이 경우 주택 수의 계산 및 주택임대소득의 산정 등 필요한 사항은 대통령령으로 정한다.\\n\\n다. 대통령령으로 정하는 농어가부업소득\\n\\n라. 대통령령으로 정하는 전통주의 제조에서 발생하는 소득\\n\\n마. 조림기간 5년 이상인 임지(林地)의 임목(林木)의 벌채 또는 양도로 발생하는 소득으로서 연 600만원 이하의 금액. 이 경우 조림기간 및 세액의 계산 등 필요한 사항은 대통령령으로 정한다.\\n\\n바. 대통령령으로 정하는 작물재배업에서 발생하는 소득\\n\\n사. 대통령령으로 정하는 어로어업 또는 양식어업에서 발생하는 소득\\n\\n3. 근로소득과 퇴직소득 중 다음 각 목의 어느 하나에 해당하는 소득\\n\\n가. 대통령령으로 정하는 복무 중인 병(兵)이 받는 급여\\n\\n나. 법률에 따라 동원된 사람이 그 동원 직장에서 받는 급여\\n\\n다. 「산업재해보상보험법」에 따라 수급권자가 받는 요양급여, 휴업급여, 장해급여, 간병급여, 유족급여, 유족특별급여, 장해특별급여, 장의비 또는 근로의 제공으로 인한 부상ㆍ질병ㆍ사망과 관련하여 근로자나 그 유족이 받는 배상ㆍ보상 또는 위자(慰藉)의 성질이 있는 급여\\n\\n라. 「근로기준법」 또는 「선원법」에 따라 근로자ㆍ선원 및 그 유족이 받는 요양보상금, 휴업보상금, 상병보상금(傷病補償金), 일시보상금, 장해보상금, 유족보상금, 행방불명보상금, 소지품 유실보상금, 장의비 및 장제비\\n\\n마. 「고용보험법」에 따라 받는 실업급여, 육아휴직 급여, 육아기 근로시간 단축 급여, 출산전후휴가 급여등, 「제대군인 지원에 관한 법률」에 따라 받는 전직지원금, 「국가공무원법」ㆍ「지방공무원법」에 따른 공무원 또는 「사립학교교직원 연금법」ㆍ「별정우체국법」을 적용받는 사람이 관련 법령에 따라 받는 육아휴직수당(「사립학교법」 제70조의2에 따라 임명된 사무직원이 학교의 정관 또는 규칙에 따라 지급받는 육아휴직수당으로서 대통령령으로 정하는 금액 이하의 것을 포함한다)\\n\\n바. 「국민연금법」에 따라 받는 반환일시금(사망으로 받는 것만 해당한다) 및 사망일시금'),\n",
       " Document(id='2e36fb7b-3499-4ad7-9fe1-8a88343bccde', metadata={'source': './tax.docx'}, page_content='2. 법인의 주주총회ㆍ사원총회 또는 이에 준하는 의결기관의 결의에 따라 상여로 받는 소득\\n\\n3. 「법인세법」에 따라 상여로 처분된 금액\\n\\n4. 퇴직함으로써 받는 소득으로서 퇴직소득에 속하지 아니하는 소득\\n\\n5. 종업원등 또는 대학의 교직원이 지급받는 직무발명보상금(제21조제1항제22호의2에 따른 직무발명보상금은 제외한다)\\n\\n6. 사업자나 법인이 생산ㆍ공급하는 재화 또는 용역을 그 사업자나 법인(「독점규제 및 공정거래에 관한 법률」에 따른 계열회사를 포함한다)의 사업장에 종사하는 임원등에게 대통령령으로 정하는 바에 따라 시가보다 낮은 가격으로 제공하거나 구입할 수 있도록 지원함으로써 해당 임원등이 얻는 이익\\n\\n② 근로소득금액은 제1항 각 호의 소득의 금액의 합계액(비과세소득의 금액은 제외하며, 이하 “총급여액”이라 한다)에서 제47조에 따른 근로소득공제를 적용한 금액으로 한다.\\n\\n③ 근로소득의 범위에 관하여 필요한 사항은 대통령령으로 정한다.\\n\\n[전문개정 2009. 12. 31.]\\n\\n\\n\\n제20조의2 삭제 <2006. 12. 30.>\\n\\n\\n\\n제20조의3(연금소득) ① 연금소득은 해당 과세기간에 발생한 다음 각 호의 소득으로 한다. <개정 2013. 1. 1., 2014. 1. 1., 2014. 12. 23., 2023. 12. 31.>\\n\\n1. 공적연금 관련법에 따라 받는 각종 연금(이하 “공적연금소득”이라 한다)\\n\\n2. 다음 각 목에 해당하는 금액을 그 소득의 성격에도 불구하고 연금계좌[“연금저축”의 명칭으로 설정하는 대통령령으로 정하는 계좌(이하 “연금저축계좌”라 한다) 또는 퇴직연금을 지급받기 위하여 설정하는 대통령령으로 정하는 계좌(이하 “퇴직연금계좌”라 한다)를 말한다. 이하 같다]에서 대통령령으로 정하는 연금형태 등으로 인출(이하 “연금수령”이라 하며, 연금수령 외의 인출은 “연금외수령”이라 한다)하는 경우의 그 연금\\n\\n가. 제146조제2항에 따라 원천징수되지 아니한 퇴직소득\\n\\n나. 제59조의3에 따라 세액공제를 받은 연금계좌 납입액\\n\\n다. 연금계좌의 운용실적에 따라 증가된 금액\\n\\n라. 그 밖에 연금계좌에 이체 또는 입금되어 해당 금액에 대한 소득세가 이연(移延)된 소득으로서 대통령령으로 정하는 소득\\n\\n3. 제2호에 따른 소득과 유사하고 연금 형태로 받는 것으로서 대통령령으로 정하는 소득\\n\\n② 공적연금소득은 2002년 1월 1일 이후에 납입된 연금 기여금 및 사용자 부담금(국가 또는 지방자치단체의 부담금을 포함한다. 이하 같다)을 기초로 하거나 2002년 1월 1일 이후 근로의 제공을 기초로 하여 받는 연금소득으로 한다.<개정 2013. 1. 1.>\\n\\n③ 연금소득금액은 제1항 각 호에 따른 소득의 금액의 합계액(제2항에 따라 연금소득에서 제외되는 소득과 비과세소득의 금액은 제외하며, 이하 “총연금액”이라 한다)에서 제47조의2에 따른 연금소득공제를 적용한 금액으로 한다.\\n\\n④ 연금소득의 범위 및 계산방법과 그 밖에 필요한 사항은 대통령령으로 정한다.\\n\\n[전문개정 2009. 12. 31.]')]"
      ]
     },
     "execution_count": 29,
     "metadata": {},
     "output_type": "execute_result"
    }
   ],
   "source": [
    "#retrieved_docs"
   ]
  },
  {
   "cell_type": "code",
   "execution_count": 10,
   "metadata": {},
   "outputs": [],
   "source": [
    "from langchain_openai import ChatOpenAI\n",
    "\n",
    "llm = ChatOpenAI(model='gpt-4o')"
   ]
  },
  {
   "cell_type": "code",
   "execution_count": null,
   "metadata": {},
   "outputs": [
    {
     "data": {
      "text/plain": [
       "'\\nprompt = f\"\"\"[Indentity]\\n- 당신은 최고의 한국 소득세 전문가 입니다\\n- [Context]를 참고해서 사용자의 질문에 답변해주세요\\n\\n[Context]\\n{retrieved_docs}\\n\\nQuestion: {query}\\n\"\"\"\\'\\n'"
      ]
     },
     "execution_count": 11,
     "metadata": {},
     "output_type": "execute_result"
    }
   ],
   "source": [
    "'''\n",
    "prompt = f\"\"\"[Indentity]\n",
    "- 당신은 최고의 한국 소득세 전문가 입니다\n",
    "- [Context]를 참고해서 사용자의 질문에 답변해주세요\n",
    "\n",
    "[Context]\n",
    "{retrieved_docs}\n",
    "\n",
    "Question: {query}\n",
    "\"\"\"'\n",
    "'''"
   ]
  },
  {
   "cell_type": "code",
   "execution_count": null,
   "metadata": {},
   "outputs": [],
   "source": [
    "# ai_message = llm.invoke(prompt)"
   ]
  },
  {
   "cell_type": "code",
   "execution_count": null,
   "metadata": {},
   "outputs": [
    {
     "data": {
      "text/plain": [
       "'연봉 5천만원인 직장인의 소득세를 계산하기 위해서는 근로소득공제를 비롯한 다양한 공제 항목들을 먼저 고려해야 합니다. 여기서는 대략적인 계산 방법을 설명드리겠습니다.\\n\\n1. **총급여액**: 먼저, 연봉 5천만원은 총급여액입니다.\\n\\n2. **근로소득공제**: 근로소득공제는 아래와 같은 공식으로 계산됩니다.\\n   - 최대 1,500만원 이하: 70% (공제한도: 1,050만원)\\n   - 1,500만원 초과 ~ 4,500만원 이하: 1,050만원 + (금액-1,500만원)의 40%\\n   - 4,500만원 초과 ~ 1억원 이하: 2,550만원 + (금액-4,500만원)의 15%\\n   - 1억원 초과: 3,750만원 + (금액-1억원)의 5%\\n\\n   5천만원의 경우: \\n   \\\\[\\n   2,550만원 + (5천만원 - 4,500만원) \\\\times 15\\\\% = 2,625만원\\n   \\\\]\\n\\n3. **소득세 과세표준**: \\n   - 과세표준 = 총급여액 - 근로소득공제\\n   - 5,000만원 - 2,625만원 = 2,375만원\\n\\n4. **소득세율**: 과세표준에 따라 소득세율을 적용합니다.\\n   - 1,200만원 이하: 6%\\n   - 1,200만원 초과 ~ 4,600만원 이하: 15% (누진공제 108만원)\\n   - ... (이후 구간 생략)\\n\\n   2,375만원은 1,200만원 초과 ~ 4,600만원 이하 구간에 속하므로:\\n   \\\\[\\n   (2,375만원 \\\\times 15\\\\%) - 108만원 = 246.25만원 - 108만원 = 138.25만원\\n   \\\\]\\n\\n5. **결론**: \\n   - 이 외에 추가적으로 적용 가능한 세액공제 등 개인별 상황에 따라 최종 소득세는 달라질 수 있습니다. 대략적인 계산으로 138.25만원의 소득세가 부과될 것으로 예상됩니다.\\n\\n위 계산은 대략적인 절차이며, 더 정확한 소득세 계산을 위해서는 각 개인의 공제 항목, 세액공제, 추가 소득 등을 고려해야 합니다. 세부적인 계산이 필요하시다면 전문 세무사와 상담하시기 바랍니다.'"
      ]
     },
     "execution_count": 33,
     "metadata": {},
     "output_type": "execute_result"
    }
   ],
   "source": [
    "# ai_message.content"
   ]
  },
  {
   "cell_type": "code",
   "execution_count": 35,
   "metadata": {},
   "outputs": [],
   "source": [
    "# pip install -U langchain langchainhub --quiet"
   ]
  },
  {
   "cell_type": "code",
   "execution_count": 12,
   "metadata": {},
   "outputs": [
    {
     "name": "stderr",
     "output_type": "stream",
     "text": [
      "c:\\Users\\노준영\\Desktop\\LLM_RAG\\new_env\\Lib\\site-packages\\langsmith\\client.py:253: LangSmithMissingAPIKeyWarning: API key must be provided when using hosted LangSmith API\n",
      "  warnings.warn(\n"
     ]
    }
   ],
   "source": [
    "from langchain import hub\n",
    "\n",
    "prompt = hub.pull(\"rlm/rag-prompt\")"
   ]
  },
  {
   "cell_type": "code",
   "execution_count": 37,
   "metadata": {},
   "outputs": [
    {
     "data": {
      "text/plain": [
       "ChatPromptTemplate(input_variables=['context', 'question'], input_types={}, partial_variables={}, metadata={'lc_hub_owner': 'rlm', 'lc_hub_repo': 'rag-prompt', 'lc_hub_commit_hash': '50442af133e61576e74536c6556cefe1fac147cad032f4377b60c436e6cdcb6e'}, messages=[HumanMessagePromptTemplate(prompt=PromptTemplate(input_variables=['context', 'question'], input_types={}, partial_variables={}, template=\"You are an assistant for question-answering tasks. Use the following pieces of retrieved context to answer the question. If you don't know the answer, just say that you don't know. Use three sentences maximum and keep the answer concise.\\nQuestion: {question} \\nContext: {context} \\nAnswer:\"), additional_kwargs={})])"
      ]
     },
     "execution_count": 37,
     "metadata": {},
     "output_type": "execute_result"
    }
   ],
   "source": [
    "prompt"
   ]
  },
  {
   "cell_type": "code",
   "execution_count": 17,
   "metadata": {},
   "outputs": [],
   "source": [
    "from langchain.chains import RetrievalQA\n",
    "\n",
    "qa_chain = RetrievalQA.from_chain_type(\n",
    "    llm,\n",
    "    retriever=database.as_retriever(),\n",
    "    chain_type_kwargs={\"prompt\":prompt}\n",
    ")"
   ]
  },
  {
   "cell_type": "code",
   "execution_count": 19,
   "metadata": {},
   "outputs": [],
   "source": [
    "ai_message = qa_chain.invoke({\"query\":query})"
   ]
  },
  {
   "cell_type": "code",
   "execution_count": 20,
   "metadata": {},
   "outputs": [
    {
     "data": {
      "text/plain": [
       "{'query': '연봉 5천만원인 직장인의 소득세는 얼마인가요?',\n",
       " 'result': \"I'm sorry, but the provided context does not contain information about the specific calculation of income tax for a salary of 50 million KRW.\"}"
      ]
     },
     "execution_count": 20,
     "metadata": {},
     "output_type": "execute_result"
    }
   ],
   "source": [
    "ai_message"
   ]
  }
 ],
 "metadata": {
  "kernelspec": {
   "display_name": "new_env",
   "language": "python",
   "name": "python3"
  },
  "language_info": {
   "codemirror_mode": {
    "name": "ipython",
    "version": 3
   },
   "file_extension": ".py",
   "mimetype": "text/x-python",
   "name": "python",
   "nbconvert_exporter": "python",
   "pygments_lexer": "ipython3",
   "version": "3.11.9"
  }
 },
 "nbformat": 4,
 "nbformat_minor": 2
}
